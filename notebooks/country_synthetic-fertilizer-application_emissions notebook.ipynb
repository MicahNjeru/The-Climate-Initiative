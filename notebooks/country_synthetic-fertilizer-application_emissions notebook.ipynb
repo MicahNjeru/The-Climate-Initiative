{
 "cells": [
  {
   "cell_type": "markdown",
   "id": "374c3093",
   "metadata": {},
   "source": [
    "<div align=\"center\"> <h1>Country_Synthetic-Fertilizer-Application Emissions CSV</h1></div>"
   ]
  },
  {
   "cell_type": "markdown",
   "id": "ae59b4ee",
   "metadata": {},
   "source": [
    "### About This Notebook\n",
    "This notebook explores the contents of the csv file.\n",
    "Various exploratory techniques will be used to analyze the content of the csv and perform any necessary cleanups."
   ]
  },
  {
   "cell_type": "code",
   "execution_count": 1,
   "id": "f0aaefa8",
   "metadata": {},
   "outputs": [],
   "source": [
    "# Import necessary libraries to use for the exploration & analysis\n",
    "import csv \n",
    "import pandas as pd\n",
    "import matplotlib.pyplot as plt\n",
    "\n",
    "# Set up the number of columns to use when showing a data frame using pandas\n",
    "pd.set_option('display.max_columns', 200)"
   ]
  },
  {
   "cell_type": "code",
   "execution_count": 2,
   "id": "a48bd7f2",
   "metadata": {},
   "outputs": [],
   "source": [
    "# Import the csv file and convert it to a pandas data frame \n",
    "df = pd.read_csv(\"../data/agriculture/country_synthetic-fertilizer-application_emissions.csv\")"
   ]
  },
  {
   "cell_type": "code",
   "execution_count": 3,
   "id": "b269303d",
   "metadata": {},
   "outputs": [
    {
     "data": {
      "text/plain": [
       "(8750, 10)"
      ]
     },
     "execution_count": 3,
     "metadata": {},
     "output_type": "execute_result"
    }
   ],
   "source": [
    "# Show the shape of the data frame (rows, columns)\n",
    "# The returned value is the number of rows and columns in the dataframe\n",
    "df.shape"
   ]
  },
  {
   "cell_type": "code",
   "execution_count": 4,
   "id": "c9a2e8ed",
   "metadata": {},
   "outputs": [
    {
     "data": {
      "text/html": [
       "<div>\n",
       "<style scoped>\n",
       "    .dataframe tbody tr th:only-of-type {\n",
       "        vertical-align: middle;\n",
       "    }\n",
       "\n",
       "    .dataframe tbody tr th {\n",
       "        vertical-align: top;\n",
       "    }\n",
       "\n",
       "    .dataframe thead th {\n",
       "        text-align: right;\n",
       "    }\n",
       "</style>\n",
       "<table border=\"1\" class=\"dataframe\">\n",
       "  <thead>\n",
       "    <tr style=\"text-align: right;\">\n",
       "      <th></th>\n",
       "      <th>iso3_country</th>\n",
       "      <th>start_time</th>\n",
       "      <th>end_time</th>\n",
       "      <th>original_inventory_sector</th>\n",
       "      <th>gas</th>\n",
       "      <th>emissions_quantity</th>\n",
       "      <th>emissions_quantity_units</th>\n",
       "      <th>temporal_granularity</th>\n",
       "      <th>created_date</th>\n",
       "      <th>modified_date</th>\n",
       "    </tr>\n",
       "  </thead>\n",
       "  <tbody>\n",
       "    <tr>\n",
       "      <th>0</th>\n",
       "      <td>ABW</td>\n",
       "      <td>2015-01-01 00:00:00</td>\n",
       "      <td>2015-12-31 00:00:00</td>\n",
       "      <td>synthetic-fertilizer-application</td>\n",
       "      <td>n2o</td>\n",
       "      <td>NaN</td>\n",
       "      <td>tonnes</td>\n",
       "      <td>annual</td>\n",
       "      <td>2022-08-09 14:12:06.602861</td>\n",
       "      <td>NaN</td>\n",
       "    </tr>\n",
       "    <tr>\n",
       "      <th>1</th>\n",
       "      <td>ABW</td>\n",
       "      <td>2015-01-01 00:00:00</td>\n",
       "      <td>2015-12-31 00:00:00</td>\n",
       "      <td>synthetic-fertilizer-application</td>\n",
       "      <td>co2e_100yr</td>\n",
       "      <td>NaN</td>\n",
       "      <td>tonnes</td>\n",
       "      <td>annual</td>\n",
       "      <td>2022-08-09 14:12:06.602883</td>\n",
       "      <td>NaN</td>\n",
       "    </tr>\n",
       "    <tr>\n",
       "      <th>2</th>\n",
       "      <td>ABW</td>\n",
       "      <td>2015-01-01 00:00:00</td>\n",
       "      <td>2015-12-31 00:00:00</td>\n",
       "      <td>synthetic-fertilizer-application</td>\n",
       "      <td>co2e_20yr</td>\n",
       "      <td>NaN</td>\n",
       "      <td>tonnes</td>\n",
       "      <td>annual</td>\n",
       "      <td>2022-08-09 14:12:06.6029</td>\n",
       "      <td>NaN</td>\n",
       "    </tr>\n",
       "    <tr>\n",
       "      <th>3</th>\n",
       "      <td>ABW</td>\n",
       "      <td>2016-01-01 00:00:00</td>\n",
       "      <td>2016-12-31 00:00:00</td>\n",
       "      <td>synthetic-fertilizer-application</td>\n",
       "      <td>n2o</td>\n",
       "      <td>NaN</td>\n",
       "      <td>tonnes</td>\n",
       "      <td>annual</td>\n",
       "      <td>2022-08-09 14:12:06.603748</td>\n",
       "      <td>NaN</td>\n",
       "    </tr>\n",
       "    <tr>\n",
       "      <th>4</th>\n",
       "      <td>ABW</td>\n",
       "      <td>2015-01-01 00:00:00</td>\n",
       "      <td>2015-12-31 00:00:00</td>\n",
       "      <td>synthetic-fertilizer-application</td>\n",
       "      <td>ch4</td>\n",
       "      <td>0.0</td>\n",
       "      <td>tonnes</td>\n",
       "      <td>annual</td>\n",
       "      <td>2022-08-09 14:12:06.60284</td>\n",
       "      <td>NaN</td>\n",
       "    </tr>\n",
       "  </tbody>\n",
       "</table>\n",
       "</div>"
      ],
      "text/plain": [
       "  iso3_country           start_time             end_time  \\\n",
       "0          ABW  2015-01-01 00:00:00  2015-12-31 00:00:00   \n",
       "1          ABW  2015-01-01 00:00:00  2015-12-31 00:00:00   \n",
       "2          ABW  2015-01-01 00:00:00  2015-12-31 00:00:00   \n",
       "3          ABW  2016-01-01 00:00:00  2016-12-31 00:00:00   \n",
       "4          ABW  2015-01-01 00:00:00  2015-12-31 00:00:00   \n",
       "\n",
       "          original_inventory_sector         gas  emissions_quantity  \\\n",
       "0  synthetic-fertilizer-application         n2o                 NaN   \n",
       "1  synthetic-fertilizer-application  co2e_100yr                 NaN   \n",
       "2  synthetic-fertilizer-application   co2e_20yr                 NaN   \n",
       "3  synthetic-fertilizer-application         n2o                 NaN   \n",
       "4  synthetic-fertilizer-application         ch4                 0.0   \n",
       "\n",
       "  emissions_quantity_units temporal_granularity                created_date  \\\n",
       "0                   tonnes               annual  2022-08-09 14:12:06.602861   \n",
       "1                   tonnes               annual  2022-08-09 14:12:06.602883   \n",
       "2                   tonnes               annual    2022-08-09 14:12:06.6029   \n",
       "3                   tonnes               annual  2022-08-09 14:12:06.603748   \n",
       "4                   tonnes               annual   2022-08-09 14:12:06.60284   \n",
       "\n",
       "   modified_date  \n",
       "0            NaN  \n",
       "1            NaN  \n",
       "2            NaN  \n",
       "3            NaN  \n",
       "4            NaN  "
      ]
     },
     "execution_count": 4,
     "metadata": {},
     "output_type": "execute_result"
    }
   ],
   "source": [
    "# Show the first 5 rows by using the head command\n",
    "df.head()"
   ]
  },
  {
   "cell_type": "code",
   "execution_count": 5,
   "id": "8f046edb",
   "metadata": {},
   "outputs": [
    {
     "name": "stdout",
     "output_type": "stream",
     "text": [
      "Column Index\t Column Name\n",
      "0\t\t iso3_country\n",
      "1\t\t start_time\n",
      "2\t\t end_time\n",
      "3\t\t original_inventory_sector\n",
      "4\t\t gas\n",
      "5\t\t emissions_quantity\n",
      "6\t\t emissions_quantity_units\n",
      "7\t\t temporal_granularity\n",
      "8\t\t created_date\n",
      "9\t\t modified_date\n"
     ]
    }
   ],
   "source": [
    "# List out the columns \n",
    "columns = df.columns\n",
    "\n",
    "index = 0 \n",
    "print(\"Column Index\\t Column Name\")\n",
    "for column in columns:\n",
    "    print(f\"{index}\\t\\t {column}\")\n",
    "    index += 1"
   ]
  },
  {
   "cell_type": "code",
   "execution_count": 6,
   "id": "1112f87a",
   "metadata": {},
   "outputs": [
    {
     "data": {
      "text/plain": [
       "iso3_country                  object\n",
       "start_time                    object\n",
       "end_time                      object\n",
       "original_inventory_sector     object\n",
       "gas                           object\n",
       "emissions_quantity           float64\n",
       "emissions_quantity_units      object\n",
       "temporal_granularity          object\n",
       "created_date                  object\n",
       "modified_date                float64\n",
       "dtype: object"
      ]
     },
     "execution_count": 6,
     "metadata": {},
     "output_type": "execute_result"
    }
   ],
   "source": [
    "# Check the data type of the column's content\n",
    "df.dtypes"
   ]
  },
  {
   "cell_type": "markdown",
   "id": "01d5346e",
   "metadata": {},
   "source": [
    "#### Here are some of the keys for understanding pandas data types\n",
    "\n",
    "object => String\n",
    "\n",
    "float64 => Float"
   ]
  },
  {
   "cell_type": "code",
   "execution_count": 7,
   "id": "313089b0",
   "metadata": {},
   "outputs": [
    {
     "data": {
      "text/html": [
       "<div>\n",
       "<style scoped>\n",
       "    .dataframe tbody tr th:only-of-type {\n",
       "        vertical-align: middle;\n",
       "    }\n",
       "\n",
       "    .dataframe tbody tr th {\n",
       "        vertical-align: top;\n",
       "    }\n",
       "\n",
       "    .dataframe thead th {\n",
       "        text-align: right;\n",
       "    }\n",
       "</style>\n",
       "<table border=\"1\" class=\"dataframe\">\n",
       "  <thead>\n",
       "    <tr style=\"text-align: right;\">\n",
       "      <th></th>\n",
       "      <th>emissions_quantity</th>\n",
       "      <th>modified_date</th>\n",
       "    </tr>\n",
       "  </thead>\n",
       "  <tbody>\n",
       "    <tr>\n",
       "      <th>count</th>\n",
       "      <td>4.883000e+03</td>\n",
       "      <td>0.0</td>\n",
       "    </tr>\n",
       "    <tr>\n",
       "      <th>mean</th>\n",
       "      <td>1.238618e+06</td>\n",
       "      <td>NaN</td>\n",
       "    </tr>\n",
       "    <tr>\n",
       "      <th>std</th>\n",
       "      <td>7.724008e+06</td>\n",
       "      <td>NaN</td>\n",
       "    </tr>\n",
       "    <tr>\n",
       "      <th>min</th>\n",
       "      <td>0.000000e+00</td>\n",
       "      <td>NaN</td>\n",
       "    </tr>\n",
       "    <tr>\n",
       "      <th>25%</th>\n",
       "      <td>0.000000e+00</td>\n",
       "      <td>NaN</td>\n",
       "    </tr>\n",
       "    <tr>\n",
       "      <th>50%</th>\n",
       "      <td>0.000000e+00</td>\n",
       "      <td>NaN</td>\n",
       "    </tr>\n",
       "    <tr>\n",
       "      <th>75%</th>\n",
       "      <td>8.839098e+04</td>\n",
       "      <td>NaN</td>\n",
       "    </tr>\n",
       "    <tr>\n",
       "      <th>max</th>\n",
       "      <td>1.252967e+08</td>\n",
       "      <td>NaN</td>\n",
       "    </tr>\n",
       "  </tbody>\n",
       "</table>\n",
       "</div>"
      ],
      "text/plain": [
       "       emissions_quantity  modified_date\n",
       "count        4.883000e+03            0.0\n",
       "mean         1.238618e+06            NaN\n",
       "std          7.724008e+06            NaN\n",
       "min          0.000000e+00            NaN\n",
       "25%          0.000000e+00            NaN\n",
       "50%          0.000000e+00            NaN\n",
       "75%          8.839098e+04            NaN\n",
       "max          1.252967e+08            NaN"
      ]
     },
     "execution_count": 7,
     "metadata": {},
     "output_type": "execute_result"
    }
   ],
   "source": [
    "# Check on the overal distribution of all numerical data columns\n",
    "df.describe()"
   ]
  },
  {
   "cell_type": "code",
   "execution_count": null,
   "id": "16f80a2e",
   "metadata": {},
   "outputs": [],
   "source": []
  }
 ],
 "metadata": {
  "kernelspec": {
   "display_name": "Python 3 (ipykernel)",
   "language": "python",
   "name": "python3"
  },
  "language_info": {
   "codemirror_mode": {
    "name": "ipython",
    "version": 3
   },
   "file_extension": ".py",
   "mimetype": "text/x-python",
   "name": "python",
   "nbconvert_exporter": "python",
   "pygments_lexer": "ipython3",
   "version": "3.10.9"
  }
 },
 "nbformat": 4,
 "nbformat_minor": 5
}
