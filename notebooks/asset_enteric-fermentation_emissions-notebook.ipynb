{
 "cells": [
  {
   "cell_type": "markdown",
   "id": "374c3093",
   "metadata": {},
   "source": [
    "<div align=\"center\"> <h1>Asset Enteric-Fermentation Emissions CSV</h1></div>"
   ]
  },
  {
   "cell_type": "markdown",
   "id": "ae59b4ee",
   "metadata": {},
   "source": [
    "### About This Notebook\n",
    "This notebook explores the contents of the csv file.\n",
    "Various exploratory techniques will be used to analyze the content of the csv and perform any necessary cleanups."
   ]
  },
  {
   "cell_type": "code",
   "execution_count": 2,
   "id": "f0aaefa8",
   "metadata": {},
   "outputs": [],
   "source": [
    "# Import necessary libraries to use for the exploration & analysis\n",
    "import csv \n",
    "import pandas as pd\n",
    "import matplotlib.pyplot as plt"
   ]
  },
  {
   "cell_type": "code",
   "execution_count": null,
   "id": "a48bd7f2",
   "metadata": {},
   "outputs": [],
   "source": []
  }
 ],
 "metadata": {
  "kernelspec": {
   "display_name": "Python 3 (ipykernel)",
   "language": "python",
   "name": "python3"
  },
  "language_info": {
   "codemirror_mode": {
    "name": "ipython",
    "version": 3
   },
   "file_extension": ".py",
   "mimetype": "text/x-python",
   "name": "python",
   "nbconvert_exporter": "python",
   "pygments_lexer": "ipython3",
   "version": "3.10.9"
  }
 },
 "nbformat": 4,
 "nbformat_minor": 5
}
