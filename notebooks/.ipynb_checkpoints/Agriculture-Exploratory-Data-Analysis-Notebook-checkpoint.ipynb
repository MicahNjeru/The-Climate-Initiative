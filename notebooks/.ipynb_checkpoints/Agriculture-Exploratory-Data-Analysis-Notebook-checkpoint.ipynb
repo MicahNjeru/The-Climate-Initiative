{
 "cells": [
  {
   "cell_type": "markdown",
   "id": "19706111",
   "metadata": {},
   "source": [
    "<div align=\"center\"> <h1>Agriculture Exploratory Data Analysis Notebook </h1> </div>\n",
    "\n",
    "## About this notebook\n",
    "\n",
    "- In this notebook, we will highlight the process used in the initial exploration of the agriculture sector data.\n",
    "- Since there are many files within the agriculture sectore, each file should ideally have it's own exploratory notebook\n",
    "- We may or may not create a separate notebook for all the files depending on the complexity of the data and how they are related to each other. "
   ]
  },
  {
   "cell_type": "markdown",
   "id": "4db3a433",
   "metadata": {},
   "source": []
  }
 ],
 "metadata": {
  "kernelspec": {
   "display_name": "Python 3 (ipykernel)",
   "language": "python",
   "name": "python3"
  },
  "language_info": {
   "codemirror_mode": {
    "name": "ipython",
    "version": 3
   },
   "file_extension": ".py",
   "mimetype": "text/x-python",
   "name": "python",
   "nbconvert_exporter": "python",
   "pygments_lexer": "ipython3",
   "version": "3.10.9"
  }
 },
 "nbformat": 4,
 "nbformat_minor": 5
}
